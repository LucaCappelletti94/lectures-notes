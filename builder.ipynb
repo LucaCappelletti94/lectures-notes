{
 "cells": [
  {
   "cell_type": "code",
   "execution_count": 1,
   "metadata": {},
   "outputs": [
    {
     "name": "stdout",
     "output_type": "stream",
     "text": [
      "['Polimi/Elettronica/main.tex',\n",
      " 'Polimi/Meccanica/main.tex',\n",
      " 'Template/subject/main.tex',\n",
      " 'Unimi/Algoritmica per il web/main.tex',\n",
      " 'Unimi/Analisi di dati su larga scala/main.tex',\n",
      " 'Unimi/Complementi di ricerca operativa/main.tex',\n",
      " 'Unimi/Metodi e Modelli per le decisioni/main.tex',\n",
      " 'Unimi/Ricerca operativa/main.tex',\n",
      " 'Unimi/Sistemi Intelligenti/main.tex',\n",
      " 'Various/Feynman Diagrams/main.tex']\n"
     ]
    }
   ],
   "source": [
    "import glob\n",
    "import os\n",
    "import subprocess\n",
    "from tqdm import tqdm\n",
    "from pprint import pprint\n",
    "\n",
    "files = glob.glob(\"*/*/main.tex\")\n",
    "\n",
    "pprint(files)"
   ]
  },
  {
   "cell_type": "code",
   "execution_count": 2,
   "metadata": {},
   "outputs": [
    {
     "name": "stderr",
     "output_type": "stream",
     "text": [
      "100%|██████████| 10/10 [03:12<00:00, 19.27s/it]\n"
     ]
    }
   ],
   "source": [
    "luaLatexCommand = \"lualatex -synctex=1 -interaction=nonstopmode --shell-escape main.tex\"\n",
    "pdfLatexCommand = \"pdflatex -synctex=1 -interaction=nonstopmode --shell-escape main.tex\"\n",
    "bibtexCommand = \"bibtex main.aux\"\n",
    "\n",
    "owd = os.getcwd()\n",
    "\n",
    "for file in tqdm(files):\n",
    "    os.chdir(os.path.dirname(file))\n",
    "    subprocess.call((pdfLatexCommand).split(\" \")) # To create initial bib / latex / index / etc... files\n",
    "    subprocess.call((bibtexCommand).split(\" \")) # To actually compute bibliography\n",
    "    subprocess.call((pdfLatexCommand).split(\" \")) # To use the bibliography and compute refs\n",
    "    subprocess.call((pdfLatexCommand).split(\" \")) # To use computed refs and update the contents/table/images list\n",
    "    subprocess.call((luaLatexCommand).split(\" \")) # To compile the lua part and ready files for production\n",
    "    os.chdir(owd)"
   ]
  },
  {
   "cell_type": "code",
   "execution_count": null,
   "metadata": {
    "collapsed": true
   },
   "outputs": [],
   "source": []
  }
 ],
 "metadata": {
  "kernelspec": {
   "display_name": "Python 3",
   "language": "python",
   "name": "python3"
  },
  "language_info": {
   "codemirror_mode": {
    "name": "ipython",
    "version": 3
   },
   "file_extension": ".py",
   "mimetype": "text/x-python",
   "name": "python",
   "nbconvert_exporter": "python",
   "pygments_lexer": "ipython3",
   "version": "3.6.3"
  }
 },
 "nbformat": 4,
 "nbformat_minor": 2
}

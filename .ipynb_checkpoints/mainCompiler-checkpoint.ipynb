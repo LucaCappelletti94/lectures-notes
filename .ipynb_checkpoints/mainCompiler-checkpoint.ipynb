{
 "cells": [
  {
   "cell_type": "code",
   "execution_count": 1,
   "metadata": {},
   "outputs": [
    {
     "name": "stdout",
     "output_type": "stream",
     "text": [
      "['Polimi/Elettronica/main.tex',\n",
      " 'Polimi/Meccanica/main.tex',\n",
      " 'Template/subject/main.tex',\n",
      " 'Unimi/Algoritmica per il web/main.tex',\n",
      " 'Unimi/Analisi di dati su larga scala/main.tex',\n",
      " 'Unimi/Complementi di ricerca operativa/main.tex',\n",
      " 'Unimi/Metodi e Modelli per le decisioni/main.tex',\n",
      " 'Unimi/Ricerca operativa/main.tex',\n",
      " 'Unimi/Sistemi Intelligenti/main.tex',\n",
      " 'Various/Feynman Diagrams/main.tex']\n"
     ]
    }
   ],
   "source": [
    "import glob\n",
    "import os\n",
    "import subprocess\n",
    "from tqdm import tqdm\n",
    "from pprint import pprint\n",
    "\n",
    "files = glob.glob(\"*/*/main.tex\")\n",
    "\n",
    "pprint(files)"
   ]
  },
  {
   "cell_type": "code",
   "execution_count": 2,
   "metadata": {},
   "outputs": [
    {
     "name": "stdout",
     "output_type": "stream",
     "text": [
      "Compiling Polimi/Elettronica/main.tex\n",
      "\n",
      "Compiling Polimi/Meccanica/main.tex\n",
      "\n",
      "Compiling Template/subject/main.tex\n",
      "\n",
      "Compiling Unimi/Algoritmica per il web/main.tex\n",
      "\n",
      "Compiling Unimi/Analisi di dati su larga scala/main.tex\n",
      "\n",
      "Compiling Unimi/Complementi di ricerca operativa/main.tex\n",
      "\n",
      "(b'This is BibTeX, Version 0.99d (TeX Live 2017)\\nThe top-level auxiliary fi'\n",
      " b'le: main.aux\\nThe style file: biblatex.bst\\nThis database file appears mor'\n",
      " b'e than once: references.bib\\n---line 21 of file main.aux\\n : \\\\bibdata{main'\n",
      " b'-blx,references,references\\n :                                        }\\nI'\n",
      " b\"'m skipping whatever remains of this command\\nDatabase file #1: main-blx.\"\n",
      " b'bib\\nDatabase file #2: references.bib\\nBiblatex version: 3.3\\n(There was 1 '\n",
      " b'error message)\\n')\n",
      "Compiling Unimi/Metodi e Modelli per le decisioni/main.tex\n",
      "\n",
      "(b'This is BibTeX, Version 0.99d (TeX Live 2017)\\nThe top-level auxiliary fi'\n",
      " b'le: main.aux\\nThe style file: biblatex.bst\\nThis database file appears mor'\n",
      " b'e than once: references.bib\\n---line 21 of file main.aux\\n : \\\\bibdata{main'\n",
      " b'-blx,references,references\\n :                                        }\\nI'\n",
      " b\"'m skipping whatever remains of this command\\nDatabase file #1: main-blx.\"\n",
      " b'bib\\nDatabase file #2: references.bib\\nBiblatex version: 3.3\\n(There was 1 '\n",
      " b'error message)\\n')\n",
      "Compiling Unimi/Ricerca operativa/main.tex\n",
      "\n",
      "(b'This is BibTeX, Version 0.99d (TeX Live 2017)\\nThe top-level auxiliary fi'\n",
      " b'le: main.aux\\nThe style file: biblatex.bst\\nThis database file appears mor'\n",
      " b'e than once: references.bib\\n---line 21 of file main.aux\\n : \\\\bibdata{main'\n",
      " b'-blx,references,references\\n :                                        }\\nI'\n",
      " b\"'m skipping whatever remains of this command\\nDatabase file #1: main-blx.\"\n",
      " b'bib\\nDatabase file #2: references.bib\\nBiblatex version: 3.3\\n(There was 1 '\n",
      " b'error message)\\n')\n",
      "Compiling Unimi/Sistemi Intelligenti/main.tex\n",
      "\n",
      "(b'This is BibTeX, Version 0.99d (TeX Live 2017)\\nThe top-level auxiliary fi'\n",
      " b'le: main.aux\\nThe style file: biblatex.bst\\nThis database file appears mor'\n",
      " b'e than once: references.bib\\n---line 21 of file main.aux\\n : \\\\bibdata{main'\n",
      " b'-blx,references,references\\n :                                        }\\nI'\n",
      " b\"'m skipping whatever remains of this command\\nDatabase file #1: main-blx.\"\n",
      " b'bib\\nDatabase file #2: references.bib\\nBiblatex version: 3.3\\n(There was 1 '\n",
      " b'error message)\\n')\n",
      "Compiling Various/Feynman Diagrams/main.tex\n",
      "\n",
      "(b'This is BibTeX, Version 0.99d (TeX Live 2017)\\nThe top-level auxiliary fi'\n",
      " b\"le: main.aux\\nThe style file: biblatex.bst\\nI couldn't open database file \"\n",
      " b'references.bib\\n---line 21 of file main.aux\\n : \\\\bibdata{main-blx,referenc'\n",
      " b\"es\\n :                             }\\nI'm skipping whatever remains of thi\"\n",
      " b's command\\nDatabase file #1: main-blx.bib\\nBiblatex version: 3.3\\n(There wa'\n",
      " b's 1 error message)\\n')\n"
     ]
    }
   ],
   "source": [
    "luaLatexCommand = \"lualatex -synctex=1 -interaction=nonstopmode --shell-escape main.tex\"\n",
    "pdfLatexCommand = \"pdflatex -synctex=1 -interaction=nonstopmode --shell-escape main.tex\"\n",
    "bibtexCommand = \"bibtex main.aux\"\n",
    "\n",
    "owd = os.getcwd()\n",
    "\n",
    "for file in tqdm(files):\n",
    "    os.chdir(os.path.dirname(file))\n",
    "    subprocess.call((pdfLatexCommand).split(\" \"))\n",
    "    subprocess.call((bibtexCommand).split(\" \"))\n",
    "    subprocess.call((pdfLatexCommand).split(\" \"))\n",
    "    subprocess.call((pdfLatexCommand).split(\" \"))\n",
    "    subprocess.call((luaLatexCommand).split(\" \"))\n",
    "    os.chdir(owd)"
   ]
  },
  {
   "cell_type": "code",
   "execution_count": null,
   "metadata": {
    "collapsed": true
   },
   "outputs": [],
   "source": []
  }
 ],
 "metadata": {
  "kernelspec": {
   "display_name": "Python 3",
   "language": "python",
   "name": "python3"
  },
  "language_info": {
   "codemirror_mode": {
    "name": "ipython",
    "version": 3
   },
   "file_extension": ".py",
   "mimetype": "text/x-python",
   "name": "python",
   "nbconvert_exporter": "python",
   "pygments_lexer": "ipython3",
   "version": "3.6.2"
  }
 },
 "nbformat": 4,
 "nbformat_minor": 2
}

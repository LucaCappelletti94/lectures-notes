{
 "cells": [
  {
   "cell_type": "code",
   "execution_count": 1,
   "metadata": {},
   "outputs": [
    {
     "name": "stdout",
     "output_type": "stream",
     "text": [
      "['Polimi/Elettronica/main.tex',\n",
      " 'Polimi/Meccanica/main.tex',\n",
      " 'Template/subject/main.tex',\n",
      " 'Unimi/Algoritmica per il web/main.tex',\n",
      " 'Unimi/Analisi di dati su larga scala/main.tex',\n",
      " 'Unimi/Complementi di ricerca operativa/main.tex',\n",
      " 'Unimi/Metodi e Modelli per le decisioni/main.tex',\n",
      " 'Unimi/Ricerca operativa/main.tex',\n",
      " 'Unimi/Sistemi Intelligenti/main.tex']\n"
     ]
    }
   ],
   "source": [
    "import glob\n",
    "import os\n",
    "import subprocess\n",
    "from pprint import pprint\n",
    "\n",
    "files = glob.glob(\"*/*/main.tex\")\n",
    "\n",
    "pprint(files)"
   ]
  },
  {
   "cell_type": "code",
   "execution_count": 2,
   "metadata": {},
   "outputs": [
    {
     "name": "stdout",
     "output_type": "stream",
     "text": [
      "Compiling Polimi/Elettronica/main.tex\n",
      "\n",
      "Compiling Polimi/Meccanica/main.tex\n",
      "\n",
      "Compiling Template/subject/main.tex\n",
      "\n",
      "Compiling Unimi/Algoritmica per il web/main.tex\n",
      "\n",
      "Compiling Unimi/Analisi di dati su larga scala/main.tex\n",
      "\n",
      "Compiling Unimi/Complementi di ricerca operativa/main.tex\n",
      "\n",
      "Compiling Unimi/Metodi e Modelli per le decisioni/main.tex\n",
      "\n",
      "Compiling Unimi/Ricerca operativa/main.tex\n",
      "\n",
      "Compiling Unimi/Sistemi Intelligenti/main.tex\n",
      "\n"
     ]
    }
   ],
   "source": [
    "luaLatexCommand = \"lualatex -synctex=1 -interaction=nonstopmode --shell-escape main.tex\"\n",
    "pdfLatexCommand = \"pdflatex -synctex=1 -interaction=nonstopmode --shell-escape main.tex\"\n",
    "bibtexCommand = \"bibtex main.aux\"\n",
    "\n",
    "owd = os.getcwd()\n",
    "\n",
    "for file in files:\n",
    "    print(\"Compiling \"+file+\"\\n\")\n",
    "    os.chdir(os.path.dirname(file))\n",
    "    try:\n",
    "        subprocess.check_output((pdfLatexCommand).split(\" \"))\n",
    "        subprocess.check_output((bibtexCommand).split(\" \"))\n",
    "        subprocess.check_output((pdfLatexCommand).split(\" \"))\n",
    "        subprocess.check_output((pdfLatexCommand).split(\" \"))\n",
    "        subprocess.call((luaLatexCommand).split(\" \"))\n",
    "    except subprocess.CalledProcessError as e:\n",
    "        pprint(e.output)\n",
    "    os.chdir(owd)"
   ]
  },
  {
   "cell_type": "code",
   "execution_count": null,
   "metadata": {
    "collapsed": true
   },
   "outputs": [],
   "source": []
  }
 ],
 "metadata": {
  "kernelspec": {
   "display_name": "Python 3",
   "language": "python",
   "name": "python3"
  },
  "language_info": {
   "codemirror_mode": {
    "name": "ipython",
    "version": 3
   },
   "file_extension": ".py",
   "mimetype": "text/x-python",
   "name": "python",
   "nbconvert_exporter": "python",
   "pygments_lexer": "ipython3",
   "version": "3.6.2"
  }
 },
 "nbformat": 4,
 "nbformat_minor": 2
}

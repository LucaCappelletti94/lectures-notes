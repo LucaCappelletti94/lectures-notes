{
 "cells": [
  {
   "cell_type": "code",
   "execution_count": 19,
   "metadata": {
    "collapsed": true
   },
   "outputs": [],
   "source": [
    "import os\n",
    "from os import listdir\n",
    "from os.path import isfile\n",
    "\n",
    "import json"
   ]
  },
  {
   "cell_type": "code",
   "execution_count": 20,
   "metadata": {},
   "outputs": [],
   "source": [
    "with open(\"cleaner_settings.json\",\"r\") as f:\n",
    "    settings = json.load(f)\n",
    "    \n",
    "black_list = settings[\"black-list\"]    \n",
    "white_list = settings[\"white-list\"]"
   ]
  },
  {
   "cell_type": "code",
   "execution_count": 21,
   "metadata": {
    "collapsed": true
   },
   "outputs": [],
   "source": [
    "def get_file_in_folder(path=None):\n",
    "    if path == None:\n",
    "        path = os.getcwd()\n",
    "    path += \"/\"\n",
    "    file_list   = []\n",
    "    folder_list = []\n",
    "    for entity in listdir(path):\n",
    "        if os.path.isdir(path+entity):\n",
    "            folder_list.append(entity)\n",
    "        else:\n",
    "            file_list.append(path+entity)\n",
    "            \n",
    "    for folder in folder_list:\n",
    "        for file in get_file_in_folder(path+folder):\n",
    "            file_list.append(file)\n",
    "    return file_list"
   ]
  },
  {
   "cell_type": "code",
   "execution_count": 25,
   "metadata": {},
   "outputs": [],
   "source": [
    "for file in get_file_in_folder():\n",
    "    # don't touch the white folder\n",
    "    skip = False\n",
    "    for white_folder in white_list:\n",
    "        if white_folder in file:\n",
    "            skip = True\n",
    "            continue\n",
    "            \n",
    "    if skip == True:\n",
    "        continue\n",
    "    \n",
    "    # get the extension of the file\n",
    "    _, extension = os.path.splitext(file)\n",
    "    \n",
    "    # remove blacklisted extension\n",
    "    if extension in black_list and extension != \"\":\n",
    "        print(file)\n",
    "        os.remove(file)"
   ]
  },
  {
   "cell_type": "code",
   "execution_count": null,
   "metadata": {},
   "outputs": [],
   "source": []
  },
  {
   "cell_type": "code",
   "execution_count": null,
   "metadata": {
    "collapsed": true
   },
   "outputs": [],
   "source": []
  },
  {
   "cell_type": "code",
   "execution_count": null,
   "metadata": {
    "collapsed": true
   },
   "outputs": [],
   "source": []
  }
 ],
 "metadata": {
  "kernelspec": {
   "display_name": "Python 3",
   "language": "python",
   "name": "python3"
  },
  "language_info": {
   "codemirror_mode": {
    "name": "ipython",
    "version": 3
   },
   "file_extension": ".py",
   "mimetype": "text/x-python",
   "name": "python",
   "nbconvert_exporter": "python",
   "pygments_lexer": "ipython3",
   "version": "3.6.2"
  }
 },
 "nbformat": 4,
 "nbformat_minor": 2
}

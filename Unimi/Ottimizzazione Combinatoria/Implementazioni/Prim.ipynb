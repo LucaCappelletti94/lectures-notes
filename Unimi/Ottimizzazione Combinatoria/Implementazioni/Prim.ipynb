{
 "cells": [
  {
   "cell_type": "code",
   "execution_count": 1,
   "metadata": {},
   "outputs": [],
   "source": [
    "import networkx as nx\n",
    "import numpy as np\n",
    "import random\n",
    "import os\n",
    "import glob\n",
    "import matplotlib.pyplot as plt\n",
    "from matplotlib.lines import Line2D\n",
    "from pyadigraph import Adigraph"
   ]
  },
  {
   "cell_type": "code",
   "execution_count": 2,
   "metadata": {},
   "outputs": [],
   "source": [
    "class RandomWeightedGraph(nx.Graph):\n",
    "    def __init__(self, nodes:int):\n",
    "        super().__init__(nx.bipartite.random_graph(nodes, nodes, 0.5).edges())\n",
    "        for (u, v) in self.edges():\n",
    "            self.edges[u,v]['weight'] = np.random.randint(10, 100)\n",
    "            \n",
    "    def weight(self, edge):\n",
    "        return self.edges[edge]['weight']"
   ]
  },
  {
   "cell_type": "code",
   "execution_count": 16,
   "metadata": {},
   "outputs": [],
   "source": [
    "class MinimumSpanningTree(dict):\n",
    "    def __init__(self, G: nx.Graph, root: int, describe: bool = False):\n",
    "        self._original_G, self._G, self._root = G, G, root\n",
    "        files = glob.glob('../images/prim/*')\n",
    "        self.counter = 0\n",
    "        for f in files:\n",
    "            os.remove(f)\n",
    "        if describe:\n",
    "            self._setup_describe()\n",
    "\n",
    "    def _setup_describe(self):\n",
    "        #self._pos = nx.kamada_kawai_layout(self._G)\n",
    "        self._pos = nx.spring_layout(self._G, iterations=10000)\n",
    "        gray, self._dark_gray = '#eeeeee', '#555555'\n",
    "        self._node_colors = [gray for n in self._G]\n",
    "        self._edge_colors = [gray for e in self._G.edges]\n",
    "        positions = np.array(list(self._pos.values()))\n",
    "        self._min_x, self._min_y = np.min(positions, axis=0) - 0.1\n",
    "        self._max_x, self._max_y = np.max(positions, axis=0) + 0.1\n",
    "\n",
    "    def _plot_graphs(self, graphs: list, title: str):\n",
    "        a = Adigraph(\n",
    "            layout=self._pos,\n",
    "            weights=nx.get_edge_attributes(self._original_G, 'weight'),\n",
    "            style=\"-\",\n",
    "            row_size=4,\n",
    "            caption=title,\n",
    "            directed=False,\n",
    "            edges_color_fallback=\"gray!80\",\n",
    "            vertices_color_fallback=\"gray\")\n",
    "\n",
    "        for i, (G, colors, title) in enumerate(graphs):\n",
    "            if isinstance(colors, str):\n",
    "                a.add_graph(\n",
    "                    self._original_G,\n",
    "                    caption=title,\n",
    "                    vertices_color_fallback=colors,\n",
    "                    edges_color={e: \"black!90\"\n",
    "                                 for e in G.edges},\n",
    "                    edges_width={e: 1\n",
    "                                 for e in G.edges},\n",
    "                    vertices_width={v: 1\n",
    "                                    for v in G.nodes})\n",
    "            else:\n",
    "                a.add_graph(\n",
    "                    self._original_G,\n",
    "                    caption=title,\n",
    "                    vertices_color=colors,\n",
    "                    edges_color={e: \"black!90\"\n",
    "                                 for e in G.edges},\n",
    "                    edges_width={e: 1\n",
    "                                 for e in G.edges},\n",
    "                    vertices_width={v: 1\n",
    "                                    for v in G.nodes})\n",
    "\n",
    "        a.save(\"../chapters/prim/{c}.tex\".format(c=self.counter))\n",
    "        self.counter += 1\n",
    "\n",
    "    def _describe_start(self, root: int):\n",
    "        tree = nx.Graph()\n",
    "        tree.add_node(root)\n",
    "        colors = ['r' for n in self._original_G]\n",
    "        self._plot_graphs([(self._original_G, colors, \"Initial Graph\"),\n",
    "                           (tree, colors, \"Initial Tree\")],\n",
    "                          \"Initial Conditions\")"
   ]
  },
  {
   "cell_type": "code",
   "execution_count": 17,
   "metadata": {},
   "outputs": [],
   "source": [
    "class PrimTree(MinimumSpanningTree):\n",
    "    def __init__(self, G: nx.Graph, root: int, describe: bool = False):\n",
    "        super().__init__(G, root, describe=describe)\n",
    "\n",
    "    def run(self):\n",
    "        self._costs = dict((v, np.inf) if v != root else (v, 0) for v in G)\n",
    "        self._pred = {root: root}\n",
    "        while self._costs and not self._is_spanning():\n",
    "            self.iteration()\n",
    "\n",
    "    def iteration(self):\n",
    "        node = min(self._costs, key=self._costs.get)\n",
    "        self[node] = self._pred[node]\n",
    "        self._costs.pop(node, None)\n",
    "        self._neighbors = []\n",
    "        for v in self._G.neighbors(node):\n",
    "            if v in self._costs and self._G.weight((node, v)) < self._costs[v]:\n",
    "                self._pred[v] = node\n",
    "                self._neighbors.append(v)\n",
    "                self._costs[v] = self._G.weight((node, v))\n",
    "        return node\n",
    "\n",
    "    def _is_spanning(self):\n",
    "        \"\"\"Determine if tree is currently spanning the graph G.\"\"\"\n",
    "        return len({v for g in zip(*self.items()) for v in g}) == len(self._G)"
   ]
  },
  {
   "cell_type": "code",
   "execution_count": 18,
   "metadata": {},
   "outputs": [],
   "source": [
    "class GraphicalPrimTree(PrimTree):\n",
    "    def __init__(self, G: nx.Graph, root: int):\n",
    "        super().__init__(G, root, describe=True)\n",
    "\n",
    "    def run(self):\n",
    "        self._i = 0\n",
    "        super().run()\n",
    "\n",
    "    def iteration(self):\n",
    "        node = super().iteration()\n",
    "        self._plot_graphs([\n",
    "            (*self._create_iteration_graph(self._costs, self._neighbors, node),\n",
    "             \" \"),\n",
    "            (nx.Graph(list(self.items())), {n:'red!90' for n in self}, \" \")\n",
    "        ], \"Iteration {i}: adding node {node}.\".format(i=self._i, node=node))\n",
    "        self._i += 1\n",
    "\n",
    "    def _create_iteration_graph(self, costs: dict, neighbors: list,\n",
    "                                node: int) -> tuple:\n",
    "        iteration = nx.Graph()\n",
    "        [iteration.add_node(v) for v in [*costs, node, *neighbors]]\n",
    "        colors = {\n",
    "            v:'green!90' if v in neighbors else 'magenta!90' if v == node else 'cyan!90'\n",
    "            for v in iteration\n",
    "        }\n",
    "        return iteration, colors"
   ]
  },
  {
   "cell_type": "code",
   "execution_count": 19,
   "metadata": {},
   "outputs": [],
   "source": [
    "seed = 66\n",
    "random.seed(seed)\n",
    "np.random.seed(seed)\n",
    "G = RandomWeightedGraph(4)\n",
    "root = 4\n",
    "end = 3"
   ]
  },
  {
   "cell_type": "code",
   "execution_count": 20,
   "metadata": {
    "scrolled": false
   },
   "outputs": [],
   "source": [
    "GraphicalPrimTree(G, root).run()"
   ]
  },
  {
   "cell_type": "code",
   "execution_count": null,
   "metadata": {},
   "outputs": [],
   "source": []
  },
  {
   "cell_type": "code",
   "execution_count": null,
   "metadata": {},
   "outputs": [],
   "source": []
  }
 ],
 "metadata": {
  "kernelspec": {
   "display_name": "Python 3",
   "language": "python",
   "name": "python3"
  },
  "language_info": {
   "codemirror_mode": {
    "name": "ipython",
    "version": 3
   },
   "file_extension": ".py",
   "mimetype": "text/x-python",
   "name": "python",
   "nbconvert_exporter": "python",
   "pygments_lexer": "ipython3",
   "version": "3.6.6"
  }
 },
 "nbformat": 4,
 "nbformat_minor": 2
}

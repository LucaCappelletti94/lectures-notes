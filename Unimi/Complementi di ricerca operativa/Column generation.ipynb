{
 "cells": [
  {
   "cell_type": "markdown",
   "metadata": {},
   "source": [
    "# Column Generation"
   ]
  },
  {
   "cell_type": "markdown",
   "metadata": {},
   "source": [
    "## Cutting stock\n",
    "\\begin{align*}\n",
    "\\min \\sum_{i=1}^m y_i\\\\\n",
    "\\sum_{j=1}^n l_j x_{ij} &\\leq L y_i \\quad \\forall i \\in \\{1,\\ldots, m\\}\\\\\n",
    "\\sum_{i=1}^m x_{ij} &\\geq d_j \\quad \\forall j \\in \\{1,\\ldots, n\\}\\\\\n",
    "x_{ij} &\\in \\mathbb{Z}^+ \\quad \\forall j \\in \\{1,\\ldots, n\\}, \\forall i \\in \\{1,\\ldots, m\\}\\\\\n",
    "y_i &\\in \\{0,1\\} \\quad \\forall i \\in \\{1,\\ldots, m\\}\n",
    "\\end{align*}\n",
    "\n",
    "In questo problema è necessario tagliare delle assi (tutte di pari lunghezza) in modo da minimizzare il numero di assi utilizzate e soddisfare la richiesta totale.\n",
    "\n",
    "Il modello presenta un elevato grado di simmetria, cioè esistono tante soluzioni ottime equivalenti. Questo mette in crisi i risolutori ad albero."
   ]
  },
  {
   "cell_type": "code",
   "execution_count": 1,
   "metadata": {},
   "outputs": [],
   "source": [
    "import random\n",
    "random.seed(42) # For reproducibility "
   ]
  },
  {
   "cell_type": "code",
   "execution_count": 2,
   "metadata": {},
   "outputs": [],
   "source": [
    "from pprint import pprint\n",
    "import math\n",
    "import numpy as np"
   ]
  },
  {
   "cell_type": "code",
   "execution_count": 3,
   "metadata": {},
   "outputs": [],
   "source": [
    "import scipy.linalg as linalg \n",
    "from pyscipopt import Model, quicksum"
   ]
  },
  {
   "cell_type": "code",
   "execution_count": 4,
   "metadata": {},
   "outputs": [],
   "source": [
    "import warnings\n",
    "warnings.filterwarnings(action=\"ignore\", module=\"scipy\", message=\"^internal gelsd\")"
   ]
  },
  {
   "cell_type": "code",
   "execution_count": 5,
   "metadata": {},
   "outputs": [],
   "source": [
    "def print_results(model:Model):\n",
    "    \"\"\"Prints the given model solution\n",
    "        model: the solved model to be printed\n",
    "    \"\"\"\n",
    "    name = model.getProbName()\n",
    "    if model.getPrimalbound() == 1e+20:\n",
    "        print(\"A feaseable solution does not exist in model %s.\"%name)\n",
    "    else:\n",
    "        print(\"In model %s the optimal solution value is : %s\"%(name, model.getObjVal()))"
   ]
  },
  {
   "cell_type": "code",
   "execution_count": 6,
   "metadata": {},
   "outputs": [],
   "source": [
    "def cutting_stock(l:list, d:list, L:int, m:int):\n",
    "    \"\"\"Returns a cutting stock model\n",
    "        l: the list of products lenghts\n",
    "        d: the products demands list\n",
    "        L: the maximum lenght of a paling\n",
    "        m: the maximum number of palings\n",
    "    \"\"\"\n",
    "    model = Model(\"Cutting Stock\")\n",
    "    x,y = {},{}\n",
    "    n = len(d)\n",
    "    \n",
    "    # Adding the variables to the model\n",
    "    for i in range(m):\n",
    "        y[i] = model.addVar(vtype=\"B\", name=\"y(%s)\"%i)\n",
    "        for j in range(n):\n",
    "            x[i,j] = model.addVar(vtype=\"I\", name=\"x(%s,%s)\"%(i,j))\n",
    "            #Since I don't know how to force R+, I add a constraint:\n",
    "            model.addCons(x[i,j] >= 0, \"Positive(%s,%s)\"%(i,j))\n",
    "            \n",
    "    #Adding length constraints\n",
    "    for i in range(m):\n",
    "        model.addCons(quicksum(l[j]*x[i,j] for j in range(n)) <= L*y[i], \"Length(%s)\"%i)\n",
    "        \n",
    "    #Adding demand constraints\n",
    "    for j in range(n):\n",
    "        model.addCons(quicksum(x[i,j] for i in range(m)) >= d[j], \"Demand(%s)\"%j)\n",
    "        \n",
    "    # Setting objective function\n",
    "    model.setObjective(quicksum(y[i] for i in range(m)), \"minimize\")\n",
    "    \n",
    "    model.data = x,y\n",
    "    return model"
   ]
  },
  {
   "cell_type": "markdown",
   "metadata": {},
   "source": [
    "## Formulazione estesa\n",
    "\n",
    "\\begin{align*}\n",
    "\\min \\sum_{h=1}^H z_h\\\\\n",
    "\\sum_{h=1}^H a_{jh} z_h &\\geq d_j \\quad \\forall j \\in \\{1,\\ldots, n\\}\\\\\n",
    "z_h &\\in \\{0,1\\} \\quad \\forall h \\in \\{1,\\ldots, H\\}\n",
    "\\end{align*}\n"
   ]
  },
  {
   "cell_type": "code",
   "execution_count": 7,
   "metadata": {},
   "outputs": [],
   "source": [
    "def extended_formulation(A:list, d:list):\n",
    "    \"\"\"Generates a reduced master problem model\n",
    "        A: matrix of cut patterns\n",
    "        d: list of products demands\n",
    "    \"\"\"\n",
    "    model = Model(\"Cutting Stock Extended Formulation\")\n",
    "    z = {}\n",
    "    n = len(d)\n",
    "    H = len(A)\n",
    "    \n",
    "    # Adding the variables to the model\n",
    "    for h in range(H):\n",
    "        z[h] = model.addVar(vtype=\"B\", name=\"z(%s)\"%(h))\n",
    "        \n",
    "    #Adding demand constraints\n",
    "    for j in range(n):\n",
    "        model.addCons(quicksum(A[h][j]*z[h] for h in range(H)) >= d[j], \"Demand(%s)\"%j)\n",
    "        \n",
    "    # Setting objective function\n",
    "    model.setObjective(quicksum(z[h] for h in range(H)), \"minimize\")\n",
    "    \n",
    "    model.data = z\n",
    "    return model"
   ]
  },
  {
   "cell_type": "markdown",
   "metadata": {},
   "source": [
    "## Master Problem\n",
    "\n",
    "\\begin{align*}\n",
    "\\min \\sum_{h=1}^H z_h\\\\\n",
    "\\sum_{h=1}^H a_{jh} z_h &\\geq d_j \\quad \\forall j \\in \\{1,\\ldots, n\\}\\\\\n",
    "z_h &\\in [0,1] \\quad \\forall h \\in \\{1,\\ldots, H\\}\n",
    "\\end{align*}\n"
   ]
  },
  {
   "cell_type": "code",
   "execution_count": 8,
   "metadata": {},
   "outputs": [],
   "source": [
    "def starting_cuts_pattern_set(l:list, d:list, L:int):\n",
    "    \"\"\"Generates a starting cut pattern set\n",
    "        l: list of products lengths\n",
    "        d: list of demands for each product\n",
    "        L: maximum paling length \n",
    "    \"\"\"\n",
    "    patterns = [] # patterns\n",
    "    m = len(l)\n",
    "    # Generate initial patterns with one size for each item width\n",
    "    for (i,width) in enumerate(l):\n",
    "        pattern = [0]*m  # vector of number of orders to be packed into one roll (bin)\n",
    "        quantity = int(L/width)\n",
    "        pattern[i] = quantity\n",
    "        for j in range(math.ceil(d[i]/quantity)):\n",
    "            patterns.append(pattern)\n",
    "    return patterns"
   ]
  },
  {
   "cell_type": "markdown",
   "metadata": {},
   "source": [
    "## Master Problem Ridotto\n",
    "\n",
    "\\begin{align*}\n",
    "\\min \\sum_{h=1}^{\\bar{H}} z_h\\\\\n",
    "\\sum_{h=1}^{\\bar{H}} a_{hj} z_h &\\geq d_j \\quad \\forall j \\in \\{1,\\ldots, n\\}\\\\\n",
    "z_h &\\in [0,1] \\quad \\forall h \\in \\{1,\\ldots, \\bar{H}\\}\n",
    "\\end{align*}\n"
   ]
  },
  {
   "cell_type": "code",
   "execution_count": 9,
   "metadata": {},
   "outputs": [],
   "source": [
    "def reduced_master_problem(A:list, d:list):\n",
    "    \"\"\"Generates a reduced master problem model\n",
    "        A: matrix of cut patterns\n",
    "        d: list of products demands\n",
    "    \"\"\"\n",
    "    model = Model(\"Reduced Master Problem\")\n",
    "    z = {}\n",
    "    n = len(d)\n",
    "    H = len(A)\n",
    "    \n",
    "    # Adding the variables to the model\n",
    "    for h in range(H):\n",
    "        z[h] = model.addVar(vtype=\"C\", name=\"z(%s)\"%(h))\n",
    "        model.addCons(z[h] >= 0, \"Zero(%s)\"%(h))\n",
    "        model.addCons(z[h] <= 1, \"One(%s)\"%(h))\n",
    "        \n",
    "    #Adding demand constraints\n",
    "    for j in range(n):\n",
    "        model.addCons(quicksum(A[h][j]*z[h] for h in range(H)) >= d[j], \"Demand(%s)\"%j)\n",
    "        \n",
    "    # Setting objective function\n",
    "    model.setObjective(quicksum(z[h] for h in range(H)), \"minimize\")\n",
    "    \n",
    "    model.data = z\n",
    "    return model"
   ]
  },
  {
   "cell_type": "markdown",
   "metadata": {},
   "source": [
    "## Resolving dual reduced master problem\n",
    "Risolviamo il problema duale tramite gli scarti complementari."
   ]
  },
  {
   "cell_type": "code",
   "execution_count": 10,
   "metadata": {},
   "outputs": [],
   "source": [
    "def rmp_dual(rmp:Model, A:list, d:list):\n",
    "    \"\"\"Solve the dual problem via complementary slackness\n",
    "        rmp: the solved primal problem model\n",
    "        A: the coefficients matrix\n",
    "        d: the resource vector\n",
    "    \"\"\"\n",
    "    zs = rmp.getVars()\n",
    "    n = len(d)\n",
    "    H = len(zs)\n",
    "    slackness = np.zeros((H+n,n))\n",
    "\n",
    "    b = [0]*(H+n)\n",
    "    for h in range(H):\n",
    "        z = rmp.getVal(zs[h])\n",
    "        b[h] = z\n",
    "        for j in range(n):\n",
    "            slackness[h][j] = A[h][j]*z\n",
    "\n",
    "    for j in range(n):\n",
    "        c = -d[j]\n",
    "        for h in range(H):\n",
    "            z = rmp.getVal(zs[h])\n",
    "            c += A[h][j]*z\n",
    "        slackness[H+j][j] = c\n",
    "    return linalg.lstsq(slackness,b)[0] "
   ]
  },
  {
   "cell_type": "markdown",
   "metadata": {},
   "source": [
    "## Problema di Pricing\n",
    "\n",
    "\\begin{align*}\n",
    "w^* = \\max \\sum_{j=1}^n \\lambda_j^* x_j\\\\\n",
    "\\sum_{j=1}^n l_j x_j &\\leq L\\\\\n",
    "x_j &\\in \\mathbb{Z}^+ \\quad \\forall \\{1, \\ldots, n\\}\n",
    "\\end{align*}\n"
   ]
  },
  {
   "cell_type": "code",
   "execution_count": 11,
   "metadata": {},
   "outputs": [],
   "source": [
    "def pricing(lambdas:list, l:list, L:int):\n",
    "    \"\"\"Generates a pricing problem model\n",
    "        lambdas: optimal solutions of dual reduced master problem\n",
    "        l: list of products lengths\n",
    "        L: maximum product length\n",
    "    \"\"\"\n",
    "    model = Model(\"Pricing Problem\")\n",
    "    x = {}\n",
    "    n = len(l)\n",
    "    \n",
    "    # Adding the variables to the model\n",
    "    for j in range(n):\n",
    "        x[j] = model.addVar(vtype=\"I\", name=\"x(%s)\"%(j))\n",
    "        model.addCons(x[j] >= 0, \"Zero(%s)\"%(j))\n",
    "        \n",
    "    #Adding demand constraints\n",
    "    model.addCons(quicksum(l[j]*x[j] for j in range(n)) <= L, \"Len(%s)\"%j)\n",
    "        \n",
    "    # Setting objective function\n",
    "    model.setObjective(quicksum(lambdas[j]*x[j] for j in range(n)), \"maximize\")\n",
    "    \n",
    "    model.data = x\n",
    "    return model"
   ]
  },
  {
   "cell_type": "markdown",
   "metadata": {},
   "source": [
    "## Solving with Column Generation"
   ]
  },
  {
   "cell_type": "code",
   "execution_count": 12,
   "metadata": {},
   "outputs": [],
   "source": [
    "def cutting_stock_column_generation(l:list, d:list, L:int, m:int, slack:float):\n",
    "    \"\"\"Solves the given cutting stock problem via column generation\n",
    "        l: list of products lengths\n",
    "        d: list of products demands\n",
    "        L: maximum paling lenghts\n",
    "        m: maximum number of palings\n",
    "        slack: error margin\n",
    "    \"\"\"\n",
    "    # We get the initial cuts patterns matrix\n",
    "    A = starting_cuts_pattern_set(l, d, L)\n",
    "    w = 0\n",
    "    max_iteration = 100\n",
    "    old_sol = 0\n",
    "    i = 0\n",
    "    # Until w is less than one\n",
    "    while i < max_iteration:\n",
    "        i+=1\n",
    "        # We solve the reduced master problem\n",
    "        rmp = reduced_master_problem(A, d)\n",
    "        rmp.optimize()\n",
    "        # We get the dual reduced master problem solution\n",
    "        lambdas = rmp_dual(rmp, A, d)\n",
    "        # We solve the pricing problem\n",
    "        pp = pricing(lambdas, l, L)\n",
    "        pp.optimize()\n",
    "        w = pp.getObjVal()\n",
    "        # If the coefficient w is more than 1\n",
    "        if w - slack> 1:\n",
    "           # We add a new column \n",
    "            new_column = []\n",
    "            for a in pp.getVars():\n",
    "                new_column.append(pp.getVal(a))\n",
    "            if old_sol != w:\n",
    "                old_sol = w\n",
    "                print(\"Iteration: %s\"%i)\n",
    "                print_results(pp)\n",
    "            A.append(new_column)\n",
    "        else:\n",
    "            # Eureka! We've resolved!\n",
    "            print(\"Resolved in %s iterations\"%i)\n",
    "            ext = extended_formulation(A, d)\n",
    "            ext.optimize()\n",
    "            print_results(pp)\n",
    "            print_results(rmp)\n",
    "            print_results(ext)\n",
    "            break\n",
    "    if i==max_iteration:\n",
    "        print(\"Unable to find solution in %s iterations\"%i)"
   ]
  },
  {
   "cell_type": "code",
   "execution_count": 13,
   "metadata": {},
   "outputs": [],
   "source": [
    "products = 5\n",
    "palings_len = 5\n",
    "palings = 20\n",
    "lenghts = [random.randint(2, palings_len) for i in range(products)]\n",
    "demands = [random.randint(2, palings_len) for i in range(products)]"
   ]
  },
  {
   "cell_type": "code",
   "execution_count": 14,
   "metadata": {},
   "outputs": [],
   "source": [
    "cutting_stock_model = cutting_stock(lenghts, demands, palings_len, palings)"
   ]
  },
  {
   "cell_type": "code",
   "execution_count": 15,
   "metadata": {},
   "outputs": [],
   "source": [
    "cutting_stock_model.optimize()"
   ]
  },
  {
   "cell_type": "code",
   "execution_count": 16,
   "metadata": {},
   "outputs": [
    {
     "name": "stdout",
     "output_type": "stream",
     "text": [
      "In model Cutting Stock the optimal solution value is : 9.0\n"
     ]
    }
   ],
   "source": [
    "print_results(cutting_stock_model)"
   ]
  },
  {
   "cell_type": "code",
   "execution_count": 17,
   "metadata": {},
   "outputs": [
    {
     "name": "stdout",
     "output_type": "stream",
     "text": [
      "Iteration: 1\n",
      "In model Pricing Problem the optimal solution value is : 1.5\n",
      "Iteration: 3\n",
      "In model Pricing Problem the optimal solution value is : 1.3888888888888888\n",
      "Iteration: 4\n",
      "In model Pricing Problem the optimal solution value is : 1.1951219512195137\n",
      "Iteration: 5\n",
      "In model Pricing Problem the optimal solution value is : 1.153846153846154\n",
      "Resolved in 6 iterations\n",
      "In model Pricing Problem the optimal solution value is : 1.0000000000000002\n",
      "In model Reduced Master Problem the optimal solution value is : 9.0\n",
      "In model Cutting Stock Extended Formulation the optimal solution value is : 9.0\n"
     ]
    }
   ],
   "source": [
    "cutting_stock_column_generation(lenghts, demands, palings_len, palings, slack=1e-9)"
   ]
  },
  {
   "cell_type": "code",
   "execution_count": null,
   "metadata": {},
   "outputs": [],
   "source": []
  }
 ],
 "metadata": {
  "kernelspec": {
   "display_name": "Python 3",
   "language": "python",
   "name": "python3"
  },
  "language_info": {
   "codemirror_mode": {
    "name": "ipython",
    "version": 3
   },
   "file_extension": ".py",
   "mimetype": "text/x-python",
   "name": "python",
   "nbconvert_exporter": "python",
   "pygments_lexer": "ipython3",
   "version": "3.6.4"
  }
 },
 "nbformat": 4,
 "nbformat_minor": 2
}

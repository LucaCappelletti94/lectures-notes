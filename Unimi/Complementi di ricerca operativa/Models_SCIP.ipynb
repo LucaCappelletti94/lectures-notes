{
 "cells": [
  {
   "cell_type": "code",
   "execution_count": 1,
   "metadata": {},
   "outputs": [],
   "source": [
    "from pyscipopt import Model, quicksum"
   ]
  },
  {
   "cell_type": "code",
   "execution_count": 2,
   "metadata": {},
   "outputs": [],
   "source": [
    "import random\n",
    "random.seed(42) # For reproducibility"
   ]
  },
  {
   "cell_type": "code",
   "execution_count": 3,
   "metadata": {},
   "outputs": [],
   "source": [
    "def print_results(model, EPS=1.e-6):\n",
    "    x,y = model.data\n",
    "    edges = [(i,j) for (i,j) in x if model.getVal(x[i,j]) > EPS]\n",
    "    facilities = [j for j in y if model.getVal(y[j]) > EPS]\n",
    "    print(\"Optimal value=\", model.getObjVal())\n",
    "    print(\"Facilities at nodes:\", facilities)\n",
    "    print(\"Edges:\", edges)"
   ]
  },
  {
   "cell_type": "markdown",
   "metadata": {},
   "source": [
    "# Uncapacitated Facility Location\n",
    "$$\n",
    "\\begin{align*}\n",
    "    z = \\min \\sum_{i=1}^n \\sum_{j=1}^m c_{ij} x_{ij} + \\sum_{i=1}^n f_i y_i\\\\\n",
    "    \\sum_{i=1}^n x_{ij} &= 1 \\quad \\forall j \\in \\{1, \\ldots, m\\}\\\\\n",
    "    \\sum_{j=1}^m x_{ij} &\\leq M y_j \\quad \\forall i \\in \\{1, \\ldots, n\\}\\\\\n",
    "    x &\\in \\{0,1\\}^{n\\times m}\\\\\n",
    "    y &\\in \\{0,1\\}^n\n",
    "\\end{align*}\n",
    "$$"
   ]
  },
  {
   "cell_type": "code",
   "execution_count": 4,
   "metadata": {},
   "outputs": [],
   "source": [
    "def uncapacitated_facility_location(facilities_number, clients_number, fixed_costs, costs, capacity):\n",
    "    model = Model(\"Uncapacitated facility location\")\n",
    "    x,y = {},{}\n",
    "    # Adding the variables to the model\n",
    "    for j in range(facilities_number):\n",
    "        y[j] = model.addVar(vtype=\"B\", name=\"y(%s)\"%j)\n",
    "        for i in range(clients_number):\n",
    "            x[i,j] = model.addVar(vtype=\"B\", name=\"x(%s,%s)\"%(i,j))\n",
    "    for i in range(clients_number):\n",
    "        model.addCons(quicksum(x[i,j] for j in range(facilities_number)) == 1, \"Demand(%s)\"%i)\n",
    "    for j in range(facilities_number):\n",
    "        model.addCons(\n",
    "            quicksum(x[i,j] for i in range(clients_number)) <= capacity[j]*y[j], \"Capacity(%s)\"%i\n",
    "        )\n",
    "    model.setObjective(\n",
    "        quicksum(fixed_costs[j]*y[j] for j in range(facilities_number)) +\n",
    "        quicksum(costs[i,j]*x[i,j] for i in range(clients_number) for j in range(facilities_number)),\n",
    "        \"minimize\")\n",
    "    model.data = x,y\n",
    "    return model"
   ]
  },
  {
   "cell_type": "code",
   "execution_count": 5,
   "metadata": {},
   "outputs": [],
   "source": [
    "facilities_number = 10\n",
    "clients_number = 8\n",
    "min_cost = 1\n",
    "max_cost = 100\n",
    "default_capacity = 1\n",
    "capacity = {j:default_capacity for j in range(facilities_number)}\n",
    "costs = {(i,j):random.randint(min_cost, max_cost) for i in range(clients_number) for j in range(facilities_number)}\n",
    "fixed_costs = {j:random.randint(min_cost, max_cost) for j in range(facilities_number)}"
   ]
  },
  {
   "cell_type": "code",
   "execution_count": 6,
   "metadata": {},
   "outputs": [
    {
     "name": "stdout",
     "output_type": "stream",
     "text": [
      "Optimal value= 429.0\n",
      "Facilities at nodes: [0, 2, 3, 4, 5, 6, 8, 9]\n",
      "Edges: [(7, 0), (0, 2), (2, 3), (5, 4), (3, 5), (4, 6), (1, 8), (6, 9)]\n"
     ]
    }
   ],
   "source": [
    "model = uncapacitated_facility_location(facilities_number, clients_number, fixed_costs, costs, capacity)\n",
    "model.optimize()\n",
    "print_results(model)"
   ]
  },
  {
   "cell_type": "markdown",
   "metadata": {},
   "source": [
    "# P-Medians\n",
    "$$\n",
    "\\begin{align*}\n",
    "    z = \\min \\sum_{i=1}^n \\sum_{j=1}^m c_{ij} x_{ij} \\\\\n",
    "    \\sum_{i=1}^n x_{ij} &= 1 \\quad \\forall j \\in \\{1, \\ldots, m\\}\\\\\n",
    "    \\sum_{i=1}^n y_{i} &= p\\\\\n",
    "    x_{ij} &\\leq y_j \\quad \\forall i \\in \\{1, \\ldots, n\\} \\quad \\forall j \\in \\{1, \\ldots, m\\}\\\\\n",
    "    x &\\in \\{0,1\\}^{n\\times m}\\\\\n",
    "    y &\\in \\{0,1\\}^n\n",
    "\\end{align*}\n",
    "$$"
   ]
  },
  {
   "cell_type": "code",
   "execution_count": 7,
   "metadata": {},
   "outputs": [],
   "source": [
    "def p_medians(I, J, costs, p):\n",
    "    model = Model(\"P-medians\")\n",
    "    x,y = {},{}\n",
    "    # Adding the variables to the model\n",
    "    for i in range(I):\n",
    "        y[i] = model.addVar(vtype=\"B\", name=\"y(%s)\"%i) # Y variables are binary\n",
    "        for j in range(J):\n",
    "            x[i,j] = model.addVar(vtype=\"B\", name=\"x(%s,%s)\"%(i,j)) # X variables are binary\n",
    "    for i in range(I):\n",
    "        model.addCons(quicksum(x[i,j] for j in range(J)) == 1, \"Demand(%s)\"%i)\n",
    "    for i in range(I):\n",
    "        for j in range(J):\n",
    "            model.addCons(x[i,j] <= y[j], \"Open(%s,%s)\"%(i,j))\n",
    "    model.addCons(quicksum(y[j] for j in range(J)) <= p, \"Median\")\n",
    "    model.setObjective(\n",
    "        quicksum(costs[i,j]*x[i,j] for i in range(I) for j in range(J)),\n",
    "        \"minimize\")\n",
    "    model.data = x,y\n",
    "    return model"
   ]
  },
  {
   "cell_type": "code",
   "execution_count": 8,
   "metadata": {},
   "outputs": [],
   "source": [
    "I = 10\n",
    "J = 5\n",
    "min_cost = 1\n",
    "max_cost = 100\n",
    "p = 5\n",
    "costs = {(i,j):random.randint(min_cost, max_cost) for i in range(I) for j in range(J)}"
   ]
  },
  {
   "cell_type": "code",
   "execution_count": 9,
   "metadata": {},
   "outputs": [
    {
     "name": "stdout",
     "output_type": "stream",
     "text": [
      "Optimal value= 208.0\n",
      "Facilities at nodes: [0, 1, 2, 3, 4]\n",
      "Edges: [(0, 2), (1, 4), (2, 2), (3, 1), (4, 3), (5, 2), (6, 2), (7, 3), (8, 0), (9, 0)]\n"
     ]
    }
   ],
   "source": [
    "model = p_medians(I, J, costs, p)\n",
    "model.optimize()\n",
    "print_results(model)"
   ]
  },
  {
   "cell_type": "markdown",
   "metadata": {},
   "source": [
    "# P-Centers\n",
    "$$\n",
    "\\begin{align*}\n",
    "    z = \\min l \\\\\n",
    "    \\sum_{j=1}^m x_{ij} &= 1 \\quad \\forall i \\in \\{1, \\ldots, n\\}\\\\\n",
    "    \\sum_{j=1}^m y_{j} &= p\\\\\n",
    "    \\sum_{j=1}^m c_{ij}x_{ij} &\\leq l \\quad \\forall i \\in \\{1, \\ldots, n\\}\\\\\n",
    "    x_{ij} &\\leq y_j \\quad \\forall i \\in \\{1, \\ldots, n\\} \\quad \\forall j \\in \\{1, \\ldots, m\\}\\\\\n",
    "    x &\\in \\{0,1\\}^{n\\times m}\\\\\n",
    "    y &\\in \\{0,1\\}^n\n",
    "\\end{align*}\n",
    "$$"
   ]
  },
  {
   "cell_type": "code",
   "execution_count": 10,
   "metadata": {},
   "outputs": [],
   "source": [
    "def p_centers(I, J, costs, p):\n",
    "    model = Model(\"P-medians\")\n",
    "    x,y = {},{}\n",
    "    # Adding the variables to the model\n",
    "    l = model.addVar(vtype=\"C\", name=\"l\")\n",
    "    for i in range(I):\n",
    "        y[i] = model.addVar(vtype=\"B\", name=\"y(%s)\"%i) # Y variables are binary\n",
    "        for j in range(J):\n",
    "            x[i,j] = model.addVar(vtype=\"B\", name=\"x(%s,%s)\"%(i,j)) # X variables are binary\n",
    "    for i in range(I):\n",
    "        model.addCons(quicksum(x[i,j] for j in range(J)) == 1, \"Demand(%s)\"%i)\n",
    "        model.addCons(quicksum(costs[i,j]*x[i,j] for j in range(J)) <= l, \"Costs(%s)\"%(i))\n",
    "    for i in range(I):\n",
    "        for j in range(J):\n",
    "            model.addCons(x[i,j] <= y[j], \"Open(%s,%s)\"%(i,j))\n",
    "    model.addCons(quicksum(y[j] for j in range(J)) <= p, \"Center\")\n",
    "    model.setObjective(l, \"minimize\")\n",
    "    model.data = x,y\n",
    "    return model"
   ]
  },
  {
   "cell_type": "code",
   "execution_count": 11,
   "metadata": {},
   "outputs": [],
   "source": [
    "I = 10\n",
    "J = 5\n",
    "min_cost = 1\n",
    "max_cost = 100\n",
    "p = 5\n",
    "costs = {(i,j):random.randint(min_cost, max_cost) for i in range(I) for j in range(J)}"
   ]
  },
  {
   "cell_type": "code",
   "execution_count": 12,
   "metadata": {},
   "outputs": [
    {
     "name": "stdout",
     "output_type": "stream",
     "text": [
      "Optimal value= 35.0\n",
      "Facilities at nodes: [0, 1, 2, 3, 4]\n",
      "Edges: [(0, 3), (1, 3), (2, 0), (3, 1), (4, 4), (5, 2), (6, 1), (7, 0), (8, 0), (9, 3)]\n"
     ]
    }
   ],
   "source": [
    "model = p_centers(I, J, costs, p)\n",
    "model.optimize()\n",
    "print_results(model)"
   ]
  }
 ],
 "metadata": {
  "kernelspec": {
   "display_name": "Python 3",
   "language": "python",
   "name": "python3"
  },
  "language_info": {
   "codemirror_mode": {
    "name": "ipython",
    "version": 3
   },
   "file_extension": ".py",
   "mimetype": "text/x-python",
   "name": "python",
   "nbconvert_exporter": "python",
   "pygments_lexer": "ipython3",
   "version": "3.6.4"
  }
 },
 "nbformat": 4,
 "nbformat_minor": 2
}
